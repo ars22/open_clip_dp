{
 "cells": [
  {
   "cell_type": "code",
   "execution_count": 1,
   "metadata": {},
   "outputs": [],
   "source": [
    "class AverageMeter:\n",
    "    def __init__(self):\n",
    "        self.num = 0\n",
    "        self.val = 0\n",
    "\n",
    "    def update(self, val, num):\n",
    "        self.val += val * num\n",
    "        self.num += num\n",
    "\n",
    "    def get(self, percentage=False):\n",
    "        val = self.val / self.num * 100 if percentage else self.val / self.num\n",
    "        return val\n"
   ]
  },
  {
   "cell_type": "code",
   "execution_count": 2,
   "metadata": {},
   "outputs": [],
   "source": [
    "import torchvision.datasets as datasets\n",
    "\n",
    "# Specify the root directory where the dataset is located\n",
    "root = \".\"\n",
    "\n",
    "# Create an instance of the PCAM dataset\n",
    "pcam_train_dataset = datasets.PCAM(root, download=True, split='train')\n",
    "pcam_test_dataset = datasets.PCAM(root, download=True, split='test')\n"
   ]
  },
  {
   "cell_type": "code",
   "execution_count": 8,
   "metadata": {},
   "outputs": [],
   "source": [
    "from tqdm import tqdm\n",
    "import torch\n",
    "import sys \n",
    "\n",
    "def train_epoch(train_loader, model, optimizer, criterion, device):\n",
    "\n",
    "    pbar = tqdm.tqdm(train_loader, desc='Training', total=len(train_loader))\n",
    "    train_loss, train_acc = AverageMeter(), AverageMeter()\n",
    "\n",
    "    for x, labels in pbar:\n",
    "        x = x.to(device)\n",
    "        labels = labels.to(device)\n",
    "        logits = model(x)\n",
    "        losses = criterion(logits, labels)\n",
    "        acc = (torch.argmax(logits, dim=-1) == labels).float().mean()\n",
    "\n",
    "        saved_var = dict()\n",
    "        for p_name, p in model.named_parameters():\n",
    "            saved_var[p_name] = torch.zeros_like(p)\n",
    "\n",
    "        model.zero_grad()\n",
    "        losses.mean().backward()\n",
    "        optimizer.step()\n",
    "        train_loss.update(losses.mean().item(), len(x))\n",
    "        train_acc.update(acc.mean().item(), len(x))\n",
    "        pbar.set_description(f\"Loss: {train_loss.get():.6f} Acc: {train_acc.get():.6f}\")"
   ]
  },
  {
   "cell_type": "code",
   "execution_count": 9,
   "metadata": {},
   "outputs": [
    {
     "name": "stderr",
     "output_type": "stream",
     "text": [
      "Loss: 0.705437 Acc: 0.548000:   0%|          | 5/2622 [01:50<16:22:30, 22.53s/it]"
     ]
    }
   ],
   "source": [
    "import torch\n",
    "from PIL import Image\n",
    "import open_clip\n",
    "import tqdm\n",
    "import pickle\n",
    "import torchvision.datasets as datasets\n",
    "from opacus import PrivacyEngine\n",
    "\n",
    "root = \".\"\n",
    "\n",
    "class Model(torch.nn.Module):\n",
    "    def __init__(self, network, lp):\n",
    "        super().__init__()\n",
    "        self.network = network\n",
    "        self.lp = lp\n",
    "\n",
    "    def forward(self, x):\n",
    "        x = self.network.encode_image(x)\n",
    "        x = self.lp(x)\n",
    "        return x\n",
    "\n",
    "\n",
    "batch_size = 100\n",
    "device = torch.device('cuda:2')\n",
    "\n",
    "network, _, preprocess = open_clip.create_model_and_transforms('ViT-B-32', pretrained='laion2b_s34b_b79k')\n",
    "pcam_train_dataset = datasets.PCAM(root, download=True, split='train', transform=preprocess)\n",
    "pcam_test_dataset = datasets.PCAM(root, download=True, split='test', transform=preprocess)\n",
    "\n",
    "\n",
    "train_loader = torch.utils.data.DataLoader(pcam_train_dataset, batch_size=batch_size, shuffle=True)\n",
    "test_loader = torch.utils.data.DataLoader(pcam_test_dataset, batch_size=batch_size, shuffle=True)\n",
    "lp = torch.nn.Linear(in_features=512, out_features=2)\n",
    "model = Model(network, lp).to(device)\n",
    "optimizer = torch.optim.Adam(model.parameters(), lr=1e-5)\n",
    "criterion = torch.nn.CrossEntropyLoss(reduction='none')\n",
    "\n",
    "for epoch in range(20):\n",
    "    train_epoch(train_loader, model, optimizer, criterion, device=device)\n",
    "                "
   ]
  },
  {
   "cell_type": "markdown",
   "metadata": {},
   "source": []
  }
 ],
 "metadata": {
  "kernelspec": {
   "display_name": "oclip",
   "language": "python",
   "name": "python3"
  },
  "language_info": {
   "codemirror_mode": {
    "name": "ipython",
    "version": 3
   },
   "file_extension": ".py",
   "mimetype": "text/x-python",
   "name": "python",
   "nbconvert_exporter": "python",
   "pygments_lexer": "ipython3",
   "version": "3.10.14"
  }
 },
 "nbformat": 4,
 "nbformat_minor": 2
}
